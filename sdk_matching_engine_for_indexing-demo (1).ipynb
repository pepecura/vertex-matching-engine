{
 "cells": [
  {
   "cell_type": "code",
   "execution_count": null,
   "metadata": {
    "id": "ur8xi4C7S06n",
    "tags": []
   },
   "outputs": [],
   "source": [
    "# Copyright 2022 Google LLC\n",
    "#\n",
    "# Licensed under the Apache License, Version 2.0 (the \"License\");\n",
    "# you may not use this file except in compliance with the License.\n",
    "# You may obtain a copy of the License at\n",
    "#\n",
    "#     https://www.apache.org/licenses/LICENSE-2.0\n",
    "#\n",
    "# Unless required by applicable law or agreed to in writing, software\n",
    "# distributed under the License is distributed on an \"AS IS\" BASIS,\n",
    "# WITHOUT WARRANTIES OR CONDITIONS OF ANY KIND, either express or implied.\n",
    "# See the License for the specific language governing permissions and\n",
    "# limitations under the License."
   ]
  },
  {
   "cell_type": "markdown",
   "metadata": {
    "id": "JAPoU8Sm5E6e"
   },
   "source": [
    "# Create Vertex AI Matching Engine index\n",
    "\n",
    "<table align=\"left\">\n",
    "  <td>\n",
    "    <a href=\"https://colab.research.google.com/github/GoogleCloudPlatform/vertex-ai-samples/blob/main/notebooks/official/matching_engine/sdk_matching_engine_for_indexing.ipynb\">\n",
    "      <img src=\"https://cloud.google.com/ml-engine/images/colab-logo-32px.png\" alt=\"Colab logo\"> Run in Colab\n",
    "    </a>\n",
    "  </td>\n",
    "  <td>\n",
    "    <a href=\"https://github.com/GoogleCloudPlatform/vertex-ai-samples/blob/main/notebooks/official/matching_engine/sdk_matching_engine_for_indexing.ipynb\">\n",
    "      <img src=\"https://cloud.google.com/ml-engine/images/github-logo-32px.png\" alt=\"GitHub logo\">\n",
    "      View on GitHub\n",
    "    </a>\n",
    "  </td>\n",
    "      <td>\n",
    "    <a href=\"https://console.cloud.google.com/vertex-ai/workbench/deploy-notebook?download_url=https://raw.githubusercontent.com/GoogleCloudPlatform/vertex-ai-samples/main/notebooks/official/matching_engine/sdk_matching_engine_for_indexing.ipynb\">\n",
    "      <img src=\"https://lh3.googleusercontent.com/UiNooY4LUgW_oTvpsNhPpQzsstV5W8F7rYgxgGBD85cWJoLmrOzhVs_ksK_vgx40SHs7jCqkTkCk=e14-rj-sc0xffffff-h130-w32\" alt=\"Vertex AI logo\">\n",
    "      Open in Vertex AI Workbench\n",
    "    </a>\n",
    "  </td>\n",
    "</table>"
   ]
  },
  {
   "cell_type": "markdown",
   "metadata": {
    "id": "b0a74aaf1481"
   },
   "source": [
    "## Overview\n",
    "\n",
    "This example demonstrates how to use the GCP ANN Service. It is a high scale, low latency solution, to find similar vectors (or more specifically \"embeddings\") for a large corpus. Moreover, it is a fully managed offering, further reducing operational overhead. It is built upon [Approximate Nearest Neighbor (ANN) technology](https://ai.googleblog.com/2020/07/announcing-scann-efficient-vector.html) developed by Google Research."
   ]
  },
  {
   "cell_type": "markdown",
   "metadata": {
    "id": "34a4b245e795"
   },
   "source": [
    "### Objective\n",
    "\n",
    "In this notebook, you will learn how to create Approximate Nearest Neighbor (ANN) Index, query against indexes, and validate the performance of the index. \n",
    "\n",
    "The steps performed include:\n",
    "\n",
    "* Create ANN Index and Brute Force Index\n",
    "* Create an IndexEndpoint with VPC Network\n",
    "* Deploy ANN Index and Brute Force Index\n",
    "* Perform online query\n",
    "* Compute recall\n"
   ]
  },
  {
   "cell_type": "markdown",
   "metadata": {
    "id": "tvgnzT1CKxrO"
   },
   "source": [
    "### Dataset\n",
    "\n",
    "The dataset used for this tutorial is the [GloVe dataset](https://nlp.stanford.edu/projects/glove/).\n",
    "\n",
    "\"GloVe is an unsupervised learning algorithm for obtaining vector representations for words. Training is performed on aggregated global word-word co-occurrence statistics from a corpus, and the resulting representations showcase interesting linear substructures of the word vector space.\"\n"
   ]
  },
  {
   "cell_type": "markdown",
   "metadata": {
    "id": "5e2eba58ad71"
   },
   "source": [
    "### Costs \n",
    "\n",
    "This tutorial uses billable components of Google Cloud:\n",
    "\n",
    "* Vertex AI\n",
    "* Cloud Storage\n",
    "\n",
    "Learn about [Vertex AI\n",
    "pricing](https://cloud.google.com/vertex-ai/pricing) and [Cloud Storage\n",
    "pricing](https://cloud.google.com/storage/pricing), and use the [Pricing\n",
    "Calculator](https://cloud.google.com/products/calculator/)\n",
    "to generate a cost estimate based on your projected usage."
   ]
  },
  {
   "cell_type": "markdown",
   "metadata": {
    "id": "d1e95a984673"
   },
   "source": [
    "## Before you begin\n",
    "\n",
    "### Set up your Google Cloud project\n",
    "\n",
    "**The following steps are required, regardless of your notebook environment.**\n",
    "\n",
    "1. [Select or create a Google Cloud project](https://console.cloud.google.com/cloud-resource-manager).\n",
    "\n",
    "1. [Make sure that billing is enabled for your project](https://cloud.google.com/billing/docs/how-to/modify-project).\n",
    "\n",
    "1. [Enable the Vertex AI API and Compute Engine API, and Service Networking API](https://console.cloud.google.com/flows/enableapi?apiid=aiplatform.googleapis.com,compute_component,servicenetworking.googleapis.com).\n",
    "\n",
    "1. Enter your project ID in the cell below. Then run the cell to make sure the\n",
    "Cloud SDK uses the right project for all the commands in this notebook.\n",
    "\n",
    "**Note**: Jupyter runs lines prefixed with `!` as shell commands, and it interpolates Python variables prefixed with `$` into these commands."
   ]
  },
  {
   "cell_type": "markdown",
   "metadata": {
    "id": "2b9daa35336a"
   },
   "source": [
    "### Authenticate your Google Cloud account\n",
    "\n",
    "**If you are using a Vertex AI Workbench notebook**, your environment is already\n",
    "authenticated. Skip this step."
   ]
  },
  {
   "cell_type": "markdown",
   "metadata": {
    "id": "c6bed8c6a6b3"
   },
   "source": [
    "**If you are using Colab**, run the cell below and follow the instructions\n",
    "when prompted to authenticate your account via oAuth.\n",
    "\n",
    "**Otherwise**, follow these steps:\n",
    "\n",
    "1. In the Cloud Console, go to the [**Create service account key**\n",
    "   page](https://console.cloud.google.com/apis/credentials/serviceaccountkey).\n",
    "\n",
    "2. Click **Create service account**.\n",
    "\n",
    "3. In the **Service account name** field, enter a name, and\n",
    "   click **Create**.\n",
    "\n",
    "4. In the **Grant this service account access to project** section, click the **Role** drop-down list. Type \"Vertex AI\"\n",
    "into the filter box, and select\n",
    "   **Vertex AI Administrator**. Type \"Storage Object Admin\" into the filter box, and select **Storage Object Admin**.\n",
    "\n",
    "5. Click *Create*. A JSON file that contains your key downloads to your\n",
    "local environment.\n",
    "\n",
    "6. Enter the path to your service account key as the\n",
    "`GOOGLE_APPLICATION_CREDENTIALS` variable in the cell below and run the cell."
   ]
  },
  {
   "cell_type": "code",
   "execution_count": 1,
   "metadata": {
    "id": "3e2b43c2d2bf"
   },
   "outputs": [],
   "source": [
    "import os\n",
    "import sys\n",
    "\n",
    "# If you are running this notebook in Colab, run this cell and follow the\n",
    "# instructions to authenticate your GCP account. This provides access to your\n",
    "# Cloud Storage bucket and lets you submit training jobs and prediction\n",
    "# requests.\n",
    "\n",
    "# The Vertex AI Workbench notebook product has specific requirements\n",
    "IS_VERTEX_AI_WORKBENCH_NOTEBOOK = os.path.exists(\n",
    "    \"/opt/deeplearning/metadata/env_version\"\n",
    ")\n",
    "\n",
    "# If on a Vertex AI Workbench notebook, then don't execute this code\n",
    "if not IS_VERTEX_AI_WORKBENCH_NOTEBOOK:\n",
    "    if \"google.colab\" in sys.modules:\n",
    "        from google.colab import auth as google_auth\n",
    "\n",
    "        google_auth.authenticate_user()\n",
    "\n",
    "    # If you are running this notebook locally, log in using gcloud\n",
    "    elif not os.getenv(\"IS_TESTING\"):\n",
    "        ! gcloud auth login"
   ]
  },
  {
   "cell_type": "markdown",
   "metadata": {
    "id": "WReHDGG5g0XY"
   },
   "source": [
    "#### Set your project ID\n",
    "\n",
    "**If you don't know your project ID**, you may be able to get your project ID using `gcloud`."
   ]
  },
  {
   "cell_type": "code",
   "execution_count": 2,
   "metadata": {
    "id": "beb72f394541"
   },
   "outputs": [
    {
     "name": "stdout",
     "output_type": "stream",
     "text": [
      "Project ID:  uki-mlops-dev-demo\n"
     ]
    }
   ],
   "source": [
    "import os\n",
    "\n",
    "PROJECT_ID = \"uki-mlops-dev-demo\"  # @param {type:\"string\"}\n",
    "\n",
    "# Get your Google Cloud project ID from gcloud\n",
    "if not os.getenv(\"IS_TESTING\"):\n",
    "    shell_output = !gcloud config list --format 'value(core.project)' 2>/dev/null\n",
    "    PROJECT_ID = shell_output[0]\n",
    "    print(\"Project ID: \", PROJECT_ID)"
   ]
  },
  {
   "cell_type": "markdown",
   "metadata": {
    "id": "f4c6d0a9e66c"
   },
   "source": [
    "Otherwise, set your project ID here."
   ]
  },
  {
   "cell_type": "markdown",
   "metadata": {
    "id": "4962667eec8e"
   },
   "source": [
    "* **Prepare a VPC network**.  To reduce any network overhead that might lead to unnecessary increase in overhead latency, it is best to call the ANN endpoints from your VPC via a direct [VPC Peering](https://cloud.google.com/vertex-ai/docs/general/vpc-peering) connection. \n",
    "  * The following section describes how to setup a VPC Peering connection if you don't have one. \n",
    "  * This is a one-time initial setup task. You can also reuse existing VPC network and skip this section."
   ]
  },
  {
   "cell_type": "code",
   "execution_count": 3,
   "metadata": {
    "id": "KDH8CgQiSxhv"
   },
   "outputs": [],
   "source": [
    "VPC_NETWORK = \"mlops-vpc\"  # @param {type:\"string\"}\n",
    "\n",
    "PEERING_RANGE_NAME = \"ann-range\""
   ]
  },
  {
   "cell_type": "code",
   "execution_count": 28,
   "metadata": {
    "id": "lW2LneA5mmmP"
   },
   "outputs": [
    {
     "name": "stdout",
     "output_type": "stream",
     "text": [
      "Created [https://www.googleapis.com/compute/v1/projects/uki-mlops-dev-demo/global/networks/matching-vpc].\n",
      "NAME          SUBNET_MODE  BGP_ROUTING_MODE  IPV4_RANGE  GATEWAY_IPV4\n",
      "matching-vpc  AUTO         REGIONAL\n",
      "\n",
      "Instances on this network will not be reachable until firewall rules\n",
      "are created. As an example, you can allow all internal traffic between\n",
      "instances as well as SSH, RDP, and ICMP by running:\n",
      "\n",
      "$ gcloud compute firewall-rules create <FIREWALL_NAME> --network matching-vpc --allow tcp,udp,icmp --source-ranges <IP_RANGE>\n",
      "$ gcloud compute firewall-rules create <FIREWALL_NAME> --network matching-vpc --allow tcp:22,tcp:3389,icmp\n",
      "\n",
      "Creating firewall...⠹Created [https://www.googleapis.com/compute/v1/projects/uki-mlops-dev-demo/global/firewalls/matching-vpc-allow-icmp].\n",
      "Creating firewall...done.                                                      \n",
      "NAME                     NETWORK       DIRECTION  PRIORITY  ALLOW  DENY  DISABLED\n",
      "matching-vpc-allow-icmp  matching-vpc  INGRESS    65534     icmp         False\n",
      "Creating firewall...⠹Created [https://www.googleapis.com/compute/v1/projects/uki-mlops-dev-demo/global/firewalls/matching-vpc-allow-internal].\n",
      "Creating firewall...done.                                                      \n",
      "NAME                         NETWORK       DIRECTION  PRIORITY  ALLOW  DENY  DISABLED\n",
      "matching-vpc-allow-internal  matching-vpc  INGRESS    65534     all          False\n",
      "Creating firewall...⠹Created [https://www.googleapis.com/compute/v1/projects/uki-mlops-dev-demo/global/firewalls/matching-vpc-allow-rdp].\n",
      "Creating firewall...done.                                                      \n",
      "NAME                    NETWORK       DIRECTION  PRIORITY  ALLOW     DENY  DISABLED\n",
      "matching-vpc-allow-rdp  matching-vpc  INGRESS    65534     tcp:3389        False\n",
      "Creating firewall...⠹Created [https://www.googleapis.com/compute/v1/projects/uki-mlops-dev-demo/global/firewalls/matching-vpc-allow-ssh].\n",
      "Creating firewall...done.                                                      \n",
      "NAME                    NETWORK       DIRECTION  PRIORITY  ALLOW   DENY  DISABLED\n",
      "matching-vpc-allow-ssh  matching-vpc  INGRESS    65534     tcp:22        False\n",
      "Created [https://www.googleapis.com/compute/v1/projects/uki-mlops-dev-demo/global/addresses/ann-range].\n",
      "\u001b[1;31mERROR:\u001b[0m (gcloud.services.vpc-peerings.connect) User [106131389347-compute@developer.gserviceaccount.com] does not have permission to access services instance [servicenetworking.googleapis.com] (or it may not exist): Permission denied to add peering for service 'servicenetworking.googleapis.com'.\n",
      "Help Token: AWzfkCMR2LNTJoWGAd6rCPZbHy2k27StXSfkpYsy8YUCY1n4dTD1x1frh0PWxK-wCn-GZHyoJlPuLF8BQqmrBDip-wBfpLvAEp7wVM0onUiMOaJt\n",
      "- '@type': type.googleapis.com/google.rpc.PreconditionFailure\n",
      "  violations:\n",
      "  - subject: ?error_code=110002&service=servicenetworking.googleapis.com&permission=servicenetworking.services.addPeering&resource=106131389347\n",
      "    type: googleapis.com\n",
      "- '@type': type.googleapis.com/google.rpc.ErrorInfo\n",
      "  domain: servicenetworking.googleapis.com\n",
      "  metadata:\n",
      "    permission: servicenetworking.services.addPeering\n",
      "    resource: '106131389347'\n",
      "    service: servicenetworking.googleapis.com\n",
      "  reason: AUTH_PERMISSION_DENIED\n"
     ]
    }
   ],
   "source": [
    "import os\n",
    "\n",
    "# Remove the if condition to run the encapsulated code\n",
    "if not os.getenv(\"IS_TESTING\"):\n",
    "    # Create a VPC network\n",
    "    ! gcloud compute networks create {VPC_NETWORK} --bgp-routing-mode=regional --subnet-mode=auto --project={PROJECT_ID}\n",
    "\n",
    "    # Add necessary firewall rules\n",
    "    ! gcloud compute firewall-rules create {VPC_NETWORK}-allow-icmp --network {VPC_NETWORK} --priority 65534 --project {PROJECT_ID} --allow icmp\n",
    "\n",
    "    ! gcloud compute firewall-rules create {VPC_NETWORK}-allow-internal --network {VPC_NETWORK} --priority 65534 --project {PROJECT_ID} --allow all --source-ranges 10.128.0.0/9\n",
    "\n",
    "    ! gcloud compute firewall-rules create {VPC_NETWORK}-allow-rdp --network {VPC_NETWORK} --priority 65534 --project {PROJECT_ID} --allow tcp:3389\n",
    "\n",
    "    ! gcloud compute firewall-rules create {VPC_NETWORK}-allow-ssh --network {VPC_NETWORK} --priority 65534 --project {PROJECT_ID} --allow tcp:22\n",
    "\n",
    "    # Reserve IP range\n",
    "    ! gcloud compute addresses create {PEERING_RANGE_NAME} --global --prefix-length=16 --network={VPC_NETWORK} --purpose=VPC_PEERING --project={PROJECT_ID} --description=\"peering range\"\n",
    "\n",
    "    # Set up peering with service networking\n",
    "    # Your account must have the \"Compute Network Admin\" role to run the following.\n",
    "    ! gcloud services vpc-peerings connect --service=servicenetworking.googleapis.com --network={VPC_NETWORK} --ranges={PEERING_RANGE_NAME} --project={PROJECT_ID}"
   ]
  },
  {
   "cell_type": "markdown",
   "metadata": {
    "id": "d3uj8x73nDX_"
   },
   "source": [
    "* Authentication: Rerun the `gcloud auth login` command in the Vertex AI Workbench notebook terminal when you are logged out and need the credential again."
   ]
  },
  {
   "cell_type": "markdown",
   "metadata": {
    "id": "d5de53b31bf1"
   },
   "source": [
    "## Make sure the following cells are run from inside the VPC network that you created in the previous step.\n",
    "\n",
    "* **WARNING:** The MatchingIndexEndpoint.match method (to create online queries against your deployed index) has to be executed in a Vertex AI Workbench notebook instance that is created with the following requirements:\n",
    "  * **In the same region as where your ANN service is deployed** (for example, if you set `REGION = \"us-central1\"` as same as the tutorial, the notebook instance has to be in `us-central1`).\n",
    "  * **Make sure you select the VPC network you created for ANN service** (instead of using the \"default\" one). That is, you will have to create the VPC network below and then create a new notebook instance that uses that VPC.  \n",
    "  * If you run it in the colab or a Vertex AI Workbench notebook instance in a different VPC network or region, \"Create Online Queries\" section will fail."
   ]
  },
  {
   "cell_type": "markdown",
   "metadata": {
    "id": "i7EUnXsZhAGF"
   },
   "source": [
    "### Installation\n",
    "\n",
    "Download and install the latest version of the Vertex SDK for Python."
   ]
  },
  {
   "cell_type": "code",
   "execution_count": null,
   "metadata": {
    "id": "wyy5Lbnzg5fi"
   },
   "outputs": [],
   "source": [
    "! pip install -U google-cloud-aiplatform"
   ]
  },
  {
   "cell_type": "markdown",
   "metadata": {
    "id": "irSMQn6gZ19l"
   },
   "source": [
    "Install the `h5py` to prepare sample dataset, and the `grpcio-tools` for querying against the index. "
   ]
  },
  {
   "cell_type": "code",
   "execution_count": null,
   "metadata": {
    "id": "-h5sqwOEZ5Yq"
   },
   "outputs": [],
   "source": [
    "! pip install -U grpcio-tools\n",
    "! pip install -U h5py"
   ]
  },
  {
   "cell_type": "markdown",
   "metadata": {
    "id": "hhq5zEbGg0XX"
   },
   "source": [
    "### Restart the kernel\n",
    "\n",
    "After you install the additional packages, you need to restart the notebook kernel so it can find the packages."
   ]
  },
  {
   "cell_type": "code",
   "execution_count": 14,
   "metadata": {
    "id": "EzrelQZ22IZj"
   },
   "outputs": [],
   "source": [
    "if not os.getenv(\"IS_TESTING\"):\n",
    "    # Automatically restart kernel after installs\n",
    "    import IPython\n",
    "\n",
    "    app = IPython.Application.instance()\n",
    "    app.kernel.do_shutdown(True)"
   ]
  },
  {
   "cell_type": "markdown",
   "metadata": {
    "id": "q7tcBkCDI1_M"
   },
   "source": [
    "### Random ID\n",
    "\n",
    "To avoid name collisions between users on resources created, create a random ID for each instance session, and append the id onto the name of resources you create in this tutorial."
   ]
  },
  {
   "cell_type": "code",
   "execution_count": 4,
   "metadata": {
    "id": "HpIK91y1IzDr"
   },
   "outputs": [
    {
     "data": {
      "text/plain": [
       "'nntoqo8r'"
      ]
     },
     "execution_count": 4,
     "metadata": {},
     "output_type": "execute_result"
    }
   ],
   "source": [
    "import random\n",
    "import string\n",
    "\n",
    "RANDOM_ID = \"\".join(random.choices(string.ascii_lowercase + string.digits, k=8))\n",
    "RANDOM_ID"
   ]
  },
  {
   "cell_type": "markdown",
   "metadata": {
    "id": "zgPO1eR3CYjk"
   },
   "source": [
    "### Create a Cloud Storage bucket\n",
    "\n",
    "**The following steps are required, regardless of your notebook environment.**\n",
    "\n",
    "Set the name of your Cloud Storage bucket below. It must be unique across all\n",
    "Cloud Storage buckets.\n",
    "\n",
    "You may also change the `REGION` variable, which is used for operations\n",
    "throughout the rest of this notebook. Make sure to [choose a region where Vertex AI services are\n",
    "available](https://cloud.google.com/vertex-ai/docs/general/locations#available_regions). You may\n",
    "not use a Multi-Regional Storage bucket for training with Vertex AI."
   ]
  },
  {
   "cell_type": "code",
   "execution_count": 5,
   "metadata": {
    "id": "MzGDU7TWdts_"
   },
   "outputs": [],
   "source": [
    "BUCKET_URI = \"gs://uki-mlops-dev-demo-bucket\"  # @param {type:\"string\"}\n",
    "REGION = \"us-central1\"  # @param {type:\"string\"}"
   ]
  },
  {
   "cell_type": "code",
   "execution_count": 6,
   "metadata": {
    "id": "cf221059d072"
   },
   "outputs": [],
   "source": [
    "if BUCKET_URI == \"\" or BUCKET_URI is None or BUCKET_URI == \"gs://[your-bucket-name]\":\n",
    "    BUCKET_URI = \"gs://\" + PROJECT_ID + \"aip-\" + RANDOM_ID\n"
   ]
  },
  {
   "cell_type": "markdown",
   "metadata": {
    "id": "-EcIXiGsCePi"
   },
   "source": [
    "**Only if your bucket doesn't already exist**: Run the following cell to create your Cloud Storage bucket."
   ]
  },
  {
   "cell_type": "code",
   "execution_count": null,
   "metadata": {
    "id": "NIq7R4HZCfIc"
   },
   "outputs": [],
   "source": [
    "! gsutil mb -l $REGION -p $PROJECT_ID $BUCKET_URI"
   ]
  },
  {
   "cell_type": "markdown",
   "metadata": {
    "id": "ucvCsknMCims"
   },
   "source": [
    "Finally, validate access to your Cloud Storage bucket by examining its contents:"
   ]
  },
  {
   "cell_type": "code",
   "execution_count": 41,
   "metadata": {
    "id": "vhOb7YnwClBb",
    "tags": []
   },
   "outputs": [
    {
     "name": "stdout",
     "output_type": "stream",
     "text": [
      "    719067  2022-10-20T10:53:48Z  gs://uki-mlops-dev-demo-bucket/bp_mm_input#1666263228405259  metageneration=1\n",
      "                                 gs://uki-mlops-dev-demo-bucket/automl_tabular_pipeline/\n",
      "                                 gs://uki-mlops-dev-demo-bucket/bp_mm_output/\n",
      "                                 gs://uki-mlops-dev-demo-bucket/matching-engine/\n",
      "                                 gs://uki-mlops-dev-demo-bucket/mm-data/\n",
      "                                 gs://uki-mlops-dev-demo-bucket/mm-model/\n",
      "                                 gs://uki-mlops-dev-demo-bucket/pipeline_root/\n",
      "                                 gs://uki-mlops-dev-demo-bucket/telco/\n",
      "                                 gs://uki-mlops-dev-demo-bucket/text/\n",
      "TOTAL: 1 objects, 719067 bytes (702.21 KiB)\n"
     ]
    }
   ],
   "source": [
    "! gsutil ls -al $BUCKET_URI"
   ]
  },
  {
   "cell_type": "markdown",
   "metadata": {
    "id": "XoEqT2Y4DJmf"
   },
   "source": [
    "### Import libraries and define constants"
   ]
  },
  {
   "cell_type": "markdown",
   "metadata": {
    "id": "Y9Uo3tifg1kx"
   },
   "source": [
    "Import the Vertex AI (unified) client library into your Python environment. \n"
   ]
  },
  {
   "cell_type": "code",
   "execution_count": 27,
   "metadata": {
    "id": "f2d05ab4126a"
   },
   "outputs": [],
   "source": [
    "import h5py"
   ]
  },
  {
   "cell_type": "markdown",
   "metadata": {
    "id": "76f7b9ffde0b"
   },
   "source": [
    "Use gcloud to retrieve the project number."
   ]
  },
  {
   "cell_type": "code",
   "execution_count": 7,
   "metadata": {
    "id": "pRUOFELefqf1"
   },
   "outputs": [
    {
     "name": "stdout",
     "output_type": "stream",
     "text": [
      "PROJECT_ID: uki-mlops-dev-demo\n",
      "REGION: us-central1\n",
      "Updated property [core/project].\n",
      "Updated property [ai_platform/region].\n"
     ]
    }
   ],
   "source": [
    "PROJECT_NUMBER = !gcloud projects list --filter=\"PROJECT_ID:'{PROJECT_ID}'\" --format='value(PROJECT_NUMBER)'\n",
    "PROJECT_NUMBER = PROJECT_NUMBER[0]\n",
    "\n",
    "PARENT = \"projects/{}/locations/{}\".format(PROJECT_ID, REGION)\n",
    "\n",
    "print(\"PROJECT_ID: {}\".format(PROJECT_ID))\n",
    "print(\"REGION: {}\".format(REGION))\n",
    "\n",
    "!gcloud config set project {PROJECT_ID} --quiet\n",
    "!gcloud config set ai_platform/region {REGION} --quiet"
   ]
  },
  {
   "cell_type": "markdown",
   "metadata": {
    "id": "lR6Wwv-hCCN-"
   },
   "source": [
    "## Prepare the data\n",
    "\n",
    "The GloVe dataset consists of a set of pre-trained embeddings. The embeddings are split into a \"train\" split, and a \"test\" split.\n",
    "We will create a vector search index from the \"train\" split, and use the embedding vectors in the \"test\" split as query vectors to test the vector search index.\n",
    "\n",
    "**Note:** While the data split uses the term \"train\", these are pre-trained embeddings and therefore are ready to be indexed for search. The terms \"train\" and \"test\" split are used just to be consistent with machine learning terminology.\n",
    "\n",
    "Download the GloVe dataset.\n"
   ]
  },
  {
   "cell_type": "code",
   "execution_count": 28,
   "metadata": {
    "id": "9wzS85TeB9dG",
    "tags": []
   },
   "outputs": [
    {
     "name": "stdout",
     "output_type": "stream",
     "text": [
      "Copying gs://cloud-samples-data/vertex-ai/matching_engine/glove-100-angular.hdf5...\n",
      "- [1 files][462.9 MiB/462.9 MiB]                                                \n",
      "Operation completed over 1 objects/462.9 MiB.                                    \n"
     ]
    }
   ],
   "source": [
    "! gsutil cp gs://cloud-samples-data/vertex-ai/matching_engine/glove-100-angular.hdf5 ."
   ]
  },
  {
   "cell_type": "markdown",
   "metadata": {
    "id": "4fAO9CMoCNtq"
   },
   "source": [
    "Read the data into memory.\n"
   ]
  },
  {
   "cell_type": "code",
   "execution_count": 29,
   "metadata": {
    "id": "lZ3JQTS6CN-3"
   },
   "outputs": [],
   "source": [
    "# The number of nearest neighbors to be retrieved from database for each query.\n",
    "NUM_NEIGHBOURS = 10\n",
    "\n",
    "h5 = h5py.File(\"glove-100-angular.hdf5\", \"r\")\n",
    "train = h5[\"train\"]\n",
    "test = h5[\"test\"]"
   ]
  },
  {
   "cell_type": "code",
   "execution_count": 38,
   "metadata": {},
   "outputs": [
    {
     "data": {
      "text/plain": [
       "<HDF5 dataset \"train\": shape (1183514, 100), type \"<f4\">"
      ]
     },
     "execution_count": 38,
     "metadata": {},
     "output_type": "execute_result"
    }
   ],
   "source": [
    "train"
   ]
  },
  {
   "cell_type": "code",
   "execution_count": 18,
   "metadata": {
    "id": "pE6bBBo7GjJK"
   },
   "outputs": [
    {
     "data": {
      "text/plain": [
       "array([-0.11333  ,  0.48402  ,  0.090771 , -0.22439  ,  0.034206 ,\n",
       "       -0.55831  ,  0.041849 , -0.53573  ,  0.18809  , -0.58722  ,\n",
       "        0.015313 , -0.014555 ,  0.80842  , -0.038519 ,  0.75348  ,\n",
       "        0.70502  , -0.17863  ,  0.3222   ,  0.67575  ,  0.67198  ,\n",
       "        0.26044  ,  0.4187   , -0.34122  ,  0.2286   , -0.53529  ,\n",
       "        1.2582   , -0.091543 ,  0.19716  , -0.037454 , -0.3336   ,\n",
       "        0.31399  ,  0.36488  ,  0.71263  ,  0.1307   , -0.24654  ,\n",
       "       -0.52445  , -0.036091 ,  0.55068  ,  0.10017  ,  0.48095  ,\n",
       "        0.71104  , -0.053462 ,  0.22325  ,  0.30917  , -0.39926  ,\n",
       "        0.036634 , -0.35431  , -0.42795  ,  0.46444  ,  0.25586  ,\n",
       "        0.68257  , -0.20821  ,  0.38433  ,  0.055773 , -0.2539   ,\n",
       "       -0.20804  ,  0.52522  , -0.11399  , -0.3253   , -0.44104  ,\n",
       "        0.17528  ,  0.62255  ,  0.50237  , -0.7607   , -0.071786 ,\n",
       "        0.0080131, -0.13286  ,  0.50097  ,  0.18824  , -0.54722  ,\n",
       "       -0.42664  ,  0.4292   ,  0.14877  , -0.0072514, -0.16484  ,\n",
       "       -0.059798 ,  0.9895   , -0.61738  ,  0.054169 ,  0.48424  ,\n",
       "       -0.35084  , -0.27053  ,  0.37829  ,  0.11503  , -0.39613  ,\n",
       "        0.24266  ,  0.39147  , -0.075256 ,  0.65093  , -0.20822  ,\n",
       "       -0.17456  ,  0.53571  , -0.16537  ,  0.13582  , -0.56016  ,\n",
       "        0.016964 ,  0.1277   ,  0.94071  , -0.22608  , -0.021106 ],\n",
       "      dtype=float32)"
      ]
     },
     "execution_count": 18,
     "metadata": {},
     "output_type": "execute_result"
    }
   ],
   "source": [
    "train[0]"
   ]
  },
  {
   "cell_type": "code",
   "execution_count": 35,
   "metadata": {},
   "outputs": [
    {
     "data": {
      "text/plain": [
       "<HDF5 dataset \"test\": shape (10000, 100), type \"<f4\">"
      ]
     },
     "execution_count": 35,
     "metadata": {},
     "output_type": "execute_result"
    }
   ],
   "source": [
    "test"
   ]
  },
  {
   "cell_type": "markdown",
   "metadata": {
    "id": "aQIQSyF9GtSv"
   },
   "source": [
    "Save the train split in JSONL format.\n"
   ]
  },
  {
   "cell_type": "code",
   "execution_count": null,
   "metadata": {
    "id": "18wCiTwfG40P"
   },
   "outputs": [],
   "source": [
    "with open(\"glove100.json\", \"w\") as f:\n",
    "    for i in range(len(train)):\n",
    "        f.write('{\"id\":\"' + str(i) + '\",')\n",
    "        f.write('\"embedding\":[' + \",\".join(str(x) for x in train[i]) + \"]}\")\n",
    "        f.write(\"\\n\")"
   ]
  },
  {
   "cell_type": "markdown",
   "metadata": {
    "id": "QuVl8DrWG8NS"
   },
   "source": [
    "Upload the training data to GCS."
   ]
  },
  {
   "cell_type": "code",
   "execution_count": 39,
   "metadata": {
    "id": "3PgsA_vbI8Vg"
   },
   "outputs": [],
   "source": [
    "EMBEDDINGS_INITIAL_URI = f\"{BUCKET_URI}/matching-engine/initial/\"\n",
    "# Clear below comment out if the embeddings are not copied in the bucket earlier.  \n",
    "! gsutil cp glove100.json {EMBEDDINGS_INITIAL_URI}"
   ]
  },
  {
   "cell_type": "markdown",
   "metadata": {
    "id": "mglUPwHpJH98"
   },
   "source": [
    "## Create Indexes\n"
   ]
  },
  {
   "cell_type": "markdown",
   "metadata": {
    "id": "qhIBCQ7dDSbW"
   },
   "source": [
    "### Create ANN Index (for Production Usage)"
   ]
  },
  {
   "cell_type": "code",
   "execution_count": 8,
   "metadata": {
    "id": "qiIg9b5zJLi1"
   },
   "outputs": [],
   "source": [
    "DIMENSIONS = 100\n",
    "DISPLAY_NAME = \"glove_100_ann\"\n",
    "DISPLAY_NAME_BRUTE_FORCE = \"glove_100_brute_force\""
   ]
  },
  {
   "cell_type": "markdown",
   "metadata": {
    "id": "svLYiDf0OD2G"
   },
   "source": [
    "Create the ANN index configuration:\n",
    "\n",
    "Please read the documentation to understand the various configuration parameters that can be used to tune the index\n"
   ]
  },
  {
   "cell_type": "code",
   "execution_count": 10,
   "metadata": {
    "id": "Y4zooldkGoM4"
   },
   "outputs": [],
   "source": [
    "import os\n",
    "import sys\n",
    "\n",
    "from google.cloud import aiplatform\n",
    "\n",
    "aiplatform.init(project=PROJECT_ID, location=REGION, staging_bucket=BUCKET_URI)"
   ]
  },
  {
   "cell_type": "code",
   "execution_count": 29,
   "metadata": {
    "id": "xzY7TpUSJcTV"
   },
   "outputs": [
    {
     "name": "stdout",
     "output_type": "stream",
     "text": [
      "Creating MatchingEngineIndex\n",
      "Create MatchingEngineIndex backing LRO: projects/106131389347/locations/us-central1/indexes/226569764066033664/operations/6764689558396207104\n",
      "MatchingEngineIndex created. Resource name: projects/106131389347/locations/us-central1/indexes/226569764066033664\n",
      "To use this MatchingEngineIndex in another session:\n",
      "index = aiplatform.MatchingEngineIndex('projects/106131389347/locations/us-central1/indexes/226569764066033664')\n"
     ]
    }
   ],
   "source": [
    "tree_ah_index = aiplatform.MatchingEngineIndex.create_tree_ah_index(\n",
    "    display_name=DISPLAY_NAME,\n",
    "    contents_delta_uri=EMBEDDINGS_INITIAL_URI,\n",
    "    dimensions=DIMENSIONS,\n",
    "    approximate_neighbors_count=150,\n",
    "    distance_measure_type=\"DOT_PRODUCT_DISTANCE\",\n",
    "    leaf_node_embedding_count=500,\n",
    "    leaf_nodes_to_search_percent=7,\n",
    "    description=\"Glove 100 ANN index\",\n",
    "    labels={\"label_name\": \"label_value\"},\n",
    ")"
   ]
  },
  {
   "cell_type": "code",
   "execution_count": null,
   "metadata": {
    "id": "17jrQi501QyX"
   },
   "outputs": [],
   "source": [
    "INDEX_RESOURCE_NAME = tree_ah_index.resource_name\n",
    "INDEX_RESOURCE_NAME"
   ]
  },
  {
   "cell_type": "markdown",
   "metadata": {
    "id": "0f1a9fbecabb"
   },
   "source": [
    "Using the resource name, you can retrieve an existing MatchingEngineIndex."
   ]
  },
  {
   "cell_type": "code",
   "execution_count": 31,
   "metadata": {
    "id": "1ddb70647d98"
   },
   "outputs": [],
   "source": [
    "tree_ah_index = aiplatform.MatchingEngineIndex(index_name=INDEX_RESOURCE_NAME)"
   ]
  },
  {
   "cell_type": "markdown",
   "metadata": {
    "id": "kSsqZuyoA1SG"
   },
   "source": [
    "### Create Brute Force Index (for Ground Truth)\n",
    "\n",
    "The brute force index uses a naive brute force method to find the nearest neighbors. This method is not fast or efficient. Hence brute force indices are not recommended for production usage. They are to be used to find the \"ground truth\" set of neighbors, so that the \"ground truth\" set can be used to measure recall of the indices being tuned for production usage. To ensure an apples to apples comparison, the `distanceMeasureType` and `dimensions` of the brute force index should match those of the production indices being tuned.\n",
    "\n",
    "Create the brute force index configuration:"
   ]
  },
  {
   "cell_type": "code",
   "execution_count": 32,
   "metadata": {
    "id": "DXnBLqjXBsv8"
   },
   "outputs": [
    {
     "name": "stdout",
     "output_type": "stream",
     "text": [
      "Creating MatchingEngineIndex\n",
      "Create MatchingEngineIndex backing LRO: projects/106131389347/locations/us-central1/indexes/8590880171999887360/operations/1344607406855815168\n",
      "MatchingEngineIndex created. Resource name: projects/106131389347/locations/us-central1/indexes/8590880171999887360\n",
      "To use this MatchingEngineIndex in another session:\n",
      "index = aiplatform.MatchingEngineIndex('projects/106131389347/locations/us-central1/indexes/8590880171999887360')\n"
     ]
    }
   ],
   "source": [
    "brute_force_index = aiplatform.MatchingEngineIndex.create_brute_force_index(\n",
    "    display_name=DISPLAY_NAME_BRUTE_FORCE,\n",
    "    contents_delta_uri=EMBEDDINGS_INITIAL_URI,\n",
    "    dimensions=DIMENSIONS,\n",
    "    distance_measure_type=\"DOT_PRODUCT_DISTANCE\",\n",
    "    description=\"Glove 100 index (brute force)\",\n",
    "    labels={\"label_name\": \"label_value\"},\n",
    ")"
   ]
  },
  {
   "cell_type": "code",
   "execution_count": 33,
   "metadata": {
    "id": "_oD5SieYJbbW"
   },
   "outputs": [
    {
     "data": {
      "text/plain": [
       "'projects/106131389347/locations/us-central1/indexes/8590880171999887360'"
      ]
     },
     "execution_count": 33,
     "metadata": {},
     "output_type": "execute_result"
    }
   ],
   "source": [
    "INDEX_BRUTE_FORCE_RESOURCE_NAME = brute_force_index.resource_name\n",
    "INDEX_BRUTE_FORCE_RESOURCE_NAME"
   ]
  },
  {
   "cell_type": "code",
   "execution_count": 12,
   "metadata": {},
   "outputs": [],
   "source": [
    "INDEX_RESOURCE_NAME = 'projects/106131389347/locations/us-central1/indexes/226569764066033664'\n",
    "INDEX_BRUTE_FORCE_RESOURCE_NAME = 'projects/106131389347/locations/us-central1/indexes/8590880171999887360'"
   ]
  },
  {
   "cell_type": "code",
   "execution_count": 13,
   "metadata": {
    "id": "865fcad494d7"
   },
   "outputs": [],
   "source": [
    "tree_ah_index = aiplatform.MatchingEngineIndex(index_name=INDEX_RESOURCE_NAME)\n",
    "brute_force_index = aiplatform.MatchingEngineIndex(index_name=INDEX_BRUTE_FORCE_RESOURCE_NAME)"
   ]
  },
  {
   "cell_type": "markdown",
   "metadata": {
    "id": "omlgEZ-sGoM5"
   },
   "source": [
    "## Update Indexes\n",
    "\n",
    "Create incremental data file.\n"
   ]
  },
  {
   "cell_type": "code",
   "execution_count": 24,
   "metadata": {
    "id": "DDAvm_mj_BVs"
   },
   "outputs": [],
   "source": [
    "with open(\"glove100_incremental.json\", \"w\") as f:\n",
    "    f.write(\n",
    "        '{\"id\":\"0\",\"embedding\":[0,0,0,0,0,0,0,0,0,0,0,0,0,0,0,0,0,0,0,0,0,0,0,0,0,0,0,0,0,0,0,0,0,0,0,0,0,0,0,0,0,0,0,0,0,0,0,0,0,0,0,0,0,0,0,0,0,0,0,0,0,0,0,0,0,0,0,0,0,0,0,0,0,0,0,0,0,0,0,0,0,0,0,0,0,0,0,0,0,0,0,0,0,0,0,0,0,0,0,0]}\\n'\n",
    "    )"
   ]
  },
  {
   "cell_type": "markdown",
   "metadata": {
    "id": "ZU7TU7C7GoM6"
   },
   "source": [
    "Copy the incremental data file to a new subdirectory.\n"
   ]
  },
  {
   "cell_type": "code",
   "execution_count": 35,
   "metadata": {
    "id": "RLWcDvNLGoM6"
   },
   "outputs": [],
   "source": [
    "EMBEDDINGS_UPDATE_URI = f\"{BUCKET_URI}/matching-engine/incremental/\""
   ]
  },
  {
   "cell_type": "code",
   "execution_count": 26,
   "metadata": {
    "id": "FgpEDX0oGoM6"
   },
   "outputs": [
    {
     "name": "stdout",
     "output_type": "stream",
     "text": [
      "Copying file://glove100_incremental.json [Content-Type=application/json]...\n",
      "/ [1 files][  225.0 B/  225.0 B]                                                \n",
      "Operation completed over 1 objects/225.0 B.                                      \n"
     ]
    }
   ],
   "source": [
    "! gsutil cp glove100_incremental.json {EMBEDDINGS_UPDATE_URI}"
   ]
  },
  {
   "cell_type": "markdown",
   "metadata": {
    "id": "aiXtF_x0GoM6"
   },
   "source": [
    "Create update index request\n"
   ]
  },
  {
   "cell_type": "code",
   "execution_count": 36,
   "metadata": {
    "id": "tvedBONtGoM6"
   },
   "outputs": [
    {
     "name": "stdout",
     "output_type": "stream",
     "text": [
      "Updating MatchingEngineIndex index: projects/106131389347/locations/us-central1/indexes/226569764066033664\n",
      "Update MatchingEngineIndex index backing LRO: projects/106131389347/locations/us-central1/indexes/226569764066033664/operations/5627530652485156864\n",
      "MatchingEngineIndex index Updated. Resource name: projects/106131389347/locations/us-central1/indexes/226569764066033664\n"
     ]
    }
   ],
   "source": [
    "tree_ah_index = tree_ah_index.update_embeddings(\n",
    "    contents_delta_uri=EMBEDDINGS_UPDATE_URI,\n",
    ")"
   ]
  },
  {
   "cell_type": "code",
   "execution_count": 37,
   "metadata": {
    "id": "HKPDojFpGoM6"
   },
   "outputs": [
    {
     "data": {
      "text/plain": [
       "'projects/106131389347/locations/us-central1/indexes/226569764066033664'"
      ]
     },
     "execution_count": 37,
     "metadata": {},
     "output_type": "execute_result"
    }
   ],
   "source": [
    "INDEX_RESOURCE_NAME = tree_ah_index.resource_name\n",
    "INDEX_RESOURCE_NAME"
   ]
  },
  {
   "cell_type": "markdown",
   "metadata": {
    "id": "qV2xjAnDDObD"
   },
   "source": [
    "## Create an IndexEndpoint with VPC Network"
   ]
  },
  {
   "cell_type": "code",
   "execution_count": 16,
   "metadata": {
    "id": "BpZQoJyxDlbO"
   },
   "outputs": [
    {
     "data": {
      "text/plain": [
       "'projects/106131389347/global/networks/mlops-vpc'"
      ]
     },
     "execution_count": 16,
     "metadata": {},
     "output_type": "execute_result"
    }
   ],
   "source": [
    "#VPC_NETWORK = \"[your-network-name]\"\n",
    "VPC_NETWORK = \"mlops-vpc\"\n",
    "VPC_NETWORK_FULL = \"projects/{}/global/networks/{}\".format(PROJECT_NUMBER, VPC_NETWORK)\n",
    "VPC_NETWORK_FULL"
   ]
  },
  {
   "cell_type": "code",
   "execution_count": 17,
   "metadata": {
    "id": "QuARXzJVGyQX"
   },
   "outputs": [
    {
     "name": "stdout",
     "output_type": "stream",
     "text": [
      "Creating MatchingEngineIndexEndpoint\n",
      "Create MatchingEngineIndexEndpoint backing LRO: projects/106131389347/locations/us-central1/indexEndpoints/7753210641308975104/operations/9104731777280245760\n",
      "MatchingEngineIndexEndpoint created. Resource name: projects/106131389347/locations/us-central1/indexEndpoints/7753210641308975104\n",
      "To use this MatchingEngineIndexEndpoint in another session:\n",
      "index_endpoint = aiplatform.MatchingEngineIndexEndpoint('projects/106131389347/locations/us-central1/indexEndpoints/7753210641308975104')\n"
     ]
    }
   ],
   "source": [
    "my_index_endpoint = aiplatform.MatchingEngineIndexEndpoint.create(\n",
    "    display_name=\"index_endpoint_for_demo\",\n",
    "    description=\"index endpoint for glove data\",\n",
    "    network=VPC_NETWORK_FULL\n",
    ")"
   ]
  },
  {
   "cell_type": "code",
   "execution_count": 18,
   "metadata": {
    "id": "PJ3bcZqi-cfM"
   },
   "outputs": [
    {
     "data": {
      "text/plain": [
       "'projects/106131389347/locations/us-central1/indexEndpoints/7753210641308975104'"
      ]
     },
     "execution_count": 18,
     "metadata": {},
     "output_type": "execute_result"
    }
   ],
   "source": [
    "INDEX_ENDPOINT_NAME = my_index_endpoint.resource_name\n",
    "INDEX_ENDPOINT_NAME"
   ]
  },
  {
   "cell_type": "markdown",
   "metadata": {
    "id": "np2cgVuuIe9k"
   },
   "source": [
    "## Deploy Indexes"
   ]
  },
  {
   "cell_type": "markdown",
   "metadata": {
    "id": "8Ew1UgcIIiJG"
   },
   "source": [
    "### Deploy ANN Index"
   ]
  },
  {
   "cell_type": "code",
   "execution_count": 19,
   "metadata": {
    "id": "nLOYTGygIlMK"
   },
   "outputs": [],
   "source": [
    "DEPLOYED_INDEX_ID = f\"ann_glove_deployed_{RANDOM_ID}\""
   ]
  },
  {
   "cell_type": "code",
   "execution_count": 20,
   "metadata": {},
   "outputs": [
    {
     "name": "stdout",
     "output_type": "stream",
     "text": [
      "ann_glove_deployed_nntoqo8r\n"
     ]
    }
   ],
   "source": [
    "print(DEPLOYED_INDEX_ID)"
   ]
  },
  {
   "cell_type": "code",
   "execution_count": 21,
   "metadata": {
    "id": "_uK4WOgqN1NG"
   },
   "outputs": [
    {
     "name": "stdout",
     "output_type": "stream",
     "text": [
      "Deploying index MatchingEngineIndexEndpoint index_endpoint: projects/106131389347/locations/us-central1/indexEndpoints/7753210641308975104\n",
      "Deploy index MatchingEngineIndexEndpoint index_endpoint backing LRO: projects/106131389347/locations/us-central1/indexEndpoints/7753210641308975104/operations/3480861742601338880\n",
      "MatchingEngineIndexEndpoint index_endpoint Deployed index. Resource name: projects/106131389347/locations/us-central1/indexEndpoints/7753210641308975104\n"
     ]
    },
    {
     "data": {
      "text/plain": [
       "[id: \"ann_glove_deployed_nntoqo8r\"\n",
       "index: \"projects/106131389347/locations/us-central1/indexes/226569764066033664\"\n",
       "create_time {\n",
       "  seconds: 1666191217\n",
       "  nanos: 143933000\n",
       "}\n",
       "private_endpoints {\n",
       "  match_grpc_address: \"10.0.0.5\"\n",
       "}\n",
       "index_sync_time {\n",
       "  seconds: 1666192065\n",
       "  nanos: 859565000\n",
       "}\n",
       "automatic_resources {\n",
       "  min_replica_count: 2\n",
       "  max_replica_count: 2\n",
       "}\n",
       "deployment_group: \"default\"\n",
       "]"
      ]
     },
     "execution_count": 21,
     "metadata": {},
     "output_type": "execute_result"
    }
   ],
   "source": [
    "my_index_endpoint = my_index_endpoint.deploy_index(\n",
    "    index=tree_ah_index, deployed_index_id=DEPLOYED_INDEX_ID\n",
    ")\n",
    "\n",
    "my_index_endpoint.deployed_indexes"
   ]
  },
  {
   "cell_type": "markdown",
   "metadata": {
    "id": "RNZnXmO5AhDO"
   },
   "source": [
    "### Deploy Brute Force Index"
   ]
  },
  {
   "cell_type": "code",
   "execution_count": 22,
   "metadata": {
    "id": "3p9e4828AkSv"
   },
   "outputs": [],
   "source": [
    "DEPLOYED_BRUTE_FORCE_INDEX_ID = f\"brute_force_glove_deployed_{RANDOM_ID}\""
   ]
  },
  {
   "cell_type": "code",
   "execution_count": 23,
   "metadata": {
    "id": "-2kgd01SA4rk"
   },
   "outputs": [
    {
     "name": "stdout",
     "output_type": "stream",
     "text": [
      "Deploying index MatchingEngineIndexEndpoint index_endpoint: projects/106131389347/locations/us-central1/indexEndpoints/7753210641308975104\n",
      "Deploy index MatchingEngineIndexEndpoint index_endpoint backing LRO: projects/106131389347/locations/us-central1/indexEndpoints/7753210641308975104/operations/448813293474152448\n",
      "MatchingEngineIndexEndpoint index_endpoint Deployed index. Resource name: projects/106131389347/locations/us-central1/indexEndpoints/7753210641308975104\n"
     ]
    },
    {
     "data": {
      "text/plain": [
       "[id: \"brute_force_glove_deployed_nntoqo8r\"\n",
       "index: \"projects/106131389347/locations/us-central1/indexes/8590880171999887360\"\n",
       "create_time {\n",
       "  seconds: 1666192076\n",
       "  nanos: 632025000\n",
       "}\n",
       "private_endpoints {\n",
       "  match_grpc_address: \"10.0.0.5\"\n",
       "}\n",
       "index_sync_time {\n",
       "  seconds: 1666192290\n",
       "  nanos: 408190000\n",
       "}\n",
       "automatic_resources {\n",
       "  min_replica_count: 2\n",
       "  max_replica_count: 2\n",
       "}\n",
       "deployment_group: \"default\"\n",
       ", id: \"ann_glove_deployed_nntoqo8r\"\n",
       "index: \"projects/106131389347/locations/us-central1/indexes/226569764066033664\"\n",
       "create_time {\n",
       "  seconds: 1666191217\n",
       "  nanos: 143933000\n",
       "}\n",
       "private_endpoints {\n",
       "  match_grpc_address: \"10.0.0.5\"\n",
       "}\n",
       "index_sync_time {\n",
       "  seconds: 1666192065\n",
       "  nanos: 859565000\n",
       "}\n",
       "automatic_resources {\n",
       "  min_replica_count: 2\n",
       "  max_replica_count: 2\n",
       "}\n",
       "deployment_group: \"default\"\n",
       "]"
      ]
     },
     "execution_count": 23,
     "metadata": {},
     "output_type": "execute_result"
    }
   ],
   "source": [
    "my_index_endpoint = my_index_endpoint.deploy_index(\n",
    "    index=brute_force_index, deployed_index_id=DEPLOYED_BRUTE_FORCE_INDEX_ID\n",
    ")\n",
    "\n",
    "my_index_endpoint.deployed_indexes"
   ]
  },
  {
   "cell_type": "markdown",
   "metadata": {
    "id": "6LCGvBNvBd8D"
   },
   "source": [
    "## Create Online Queries\n",
    "\n",
    "After you built your indexes, you may query against the deployed index through the online querying gRPC API (Match service) within the virtual machine instances from the same region (for example 'us-central1' in this tutorial).  "
   ]
  },
  {
   "cell_type": "markdown",
   "metadata": {
    "id": "IcXa9lSuB9AT"
   },
   "source": [
    "Test your query:"
   ]
  },
  {
   "cell_type": "code",
   "execution_count": 30,
   "metadata": {
    "id": "A3KYVw5HB-4v",
    "tags": []
   },
   "outputs": [
    {
     "data": {
      "text/plain": [
       "[[MatchNeighbor(id='899605', distance=20.079139709472656),\n",
       "  MatchNeighbor(id='1093903', distance=17.839481353759766),\n",
       "  MatchNeighbor(id='296543', distance=16.99886703491211),\n",
       "  MatchNeighbor(id='21495', distance=16.8770694732666),\n",
       "  MatchNeighbor(id='689839', distance=16.852933883666992),\n",
       "  MatchNeighbor(id='702494', distance=16.84667205810547),\n",
       "  MatchNeighbor(id='518781', distance=16.65009307861328),\n",
       "  MatchNeighbor(id='505832', distance=16.334247589111328),\n",
       "  MatchNeighbor(id='405251', distance=16.278234481811523),\n",
       "  MatchNeighbor(id='1142011', distance=16.186227798461914)]]"
      ]
     },
     "execution_count": 30,
     "metadata": {},
     "output_type": "execute_result"
    }
   ],
   "source": [
    "# Test query\n",
    "response = my_index_endpoint.match(\n",
    "    deployed_index_id=DEPLOYED_INDEX_ID, queries=test[:1], num_neighbors=NUM_NEIGHBOURS\n",
    ")\n",
    "\n",
    "response"
   ]
  },
  {
   "cell_type": "markdown",
   "metadata": {
    "id": "xeUZO3bAGoM-"
   },
   "source": [
    "### Compute Recall\n",
    "\n",
    "Use the deployed brute force Index as the ground truth to calculate the recall of ANN Index. Note that you can run multiple queries in a single match call."
   ]
  },
  {
   "cell_type": "code",
   "execution_count": 31,
   "metadata": {
    "id": "U9dNIbkEGoM-"
   },
   "outputs": [],
   "source": [
    "# Retrieve nearest neighbors for both the tree-AH index and the brute-force index\n",
    "tree_ah_response_test = my_index_endpoint.match(\n",
    "    deployed_index_id=DEPLOYED_INDEX_ID,\n",
    "    queries=list(test),\n",
    "    num_neighbors=NUM_NEIGHBOURS,\n",
    ")\n",
    "brute_force_response_test = my_index_endpoint.match(\n",
    "    deployed_index_id=DEPLOYED_BRUTE_FORCE_INDEX_ID,\n",
    "    queries=list(test),\n",
    "    num_neighbors=NUM_NEIGHBOURS,\n",
    ")"
   ]
  },
  {
   "cell_type": "code",
   "execution_count": 32,
   "metadata": {
    "id": "V-eMF05UGoM-"
   },
   "outputs": [
    {
     "name": "stdout",
     "output_type": "stream",
     "text": [
      "Recall: 0.58067\n"
     ]
    }
   ],
   "source": [
    "# Calculate recall by determining how many neighbors were correctly retrieved as compared to the brute-force option.\n",
    "recalled_neighbors = 0\n",
    "for tree_ah_neighbors, brute_force_neighbors in zip(\n",
    "    tree_ah_response_test, brute_force_response_test\n",
    "):\n",
    "    tree_ah_neighbor_ids = [neighbor.id for neighbor in tree_ah_neighbors]\n",
    "    brute_force_neighbor_ids = [neighbor.id for neighbor in brute_force_neighbors]\n",
    "\n",
    "    recalled_neighbors += len(\n",
    "        set(tree_ah_neighbor_ids).intersection(brute_force_neighbor_ids)\n",
    "    )\n",
    "\n",
    "recall = recalled_neighbors / len(\n",
    "    [neighbor for neighbors in brute_force_response_test for neighbor in neighbors]\n",
    ")\n",
    "\n",
    "print(\"Recall: {}\".format(recall))"
   ]
  },
  {
   "cell_type": "markdown",
   "metadata": {
    "id": "TpV-iwP9qw9c"
   },
   "source": [
    "## Cleaning up\n",
    "\n",
    "To clean up all Google Cloud resources used in this project, you can [delete the Google Cloud\n",
    "project](https://cloud.google.com/resource-manager/docs/creating-managing-projects#shutting_down_projects) you used for the tutorial.\n",
    "You can also manually delete resources that you created by running the following code."
   ]
  },
  {
   "cell_type": "code",
   "execution_count": null,
   "metadata": {
    "id": "sx_vKniMq9ZX"
   },
   "outputs": [],
   "source": [
    "# Force undeployment of indexes and delete endpoint\n",
    "my_index_endpoint.delete(force=True)"
   ]
  },
  {
   "cell_type": "code",
   "execution_count": null,
   "metadata": {
    "id": "omj7N9iWv-Tq"
   },
   "outputs": [],
   "source": [
    "# Delete indexes\n",
    "tree_ah_index.delete()\n",
    "brute_force_index.delete()"
   ]
  }
 ],
 "metadata": {
  "colab": {
   "collapsed_sections": [],
   "name": "sdk_matching_engine_for_indexing.ipynb",
   "toc_visible": true
  },
  "environment": {
   "kernel": "python3",
   "name": "common-cpu.m98",
   "type": "gcloud",
   "uri": "gcr.io/deeplearning-platform-release/base-cpu:m98"
  },
  "kernelspec": {
   "display_name": "Python 3",
   "language": "python",
   "name": "python3"
  },
  "language_info": {
   "codemirror_mode": {
    "name": "ipython",
    "version": 3
   },
   "file_extension": ".py",
   "mimetype": "text/x-python",
   "name": "python",
   "nbconvert_exporter": "python",
   "pygments_lexer": "ipython3",
   "version": "3.7.12"
  }
 },
 "nbformat": 4,
 "nbformat_minor": 4
}
