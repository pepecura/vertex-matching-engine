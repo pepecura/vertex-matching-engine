{
 "cells": [
  {
   "cell_type": "markdown",
   "metadata": {
    "id": "JAPoU8Sm5E6e"
   },
   "source": [
    "# Run Vertex AI Matching Engine for Prediction"
   ]
  },
  {
   "cell_type": "markdown",
   "metadata": {
    "id": "b0a74aaf1481"
   },
   "source": [
    "### Overview\n",
    "\n",
    "This example demonstrates how to call an existing GCP ANN Service for online prediction. "
   ]
  },
  {
   "cell_type": "code",
   "execution_count": 1,
   "metadata": {
    "id": "3e2b43c2d2bf"
   },
   "outputs": [],
   "source": [
    "import os\n",
    "import sys\n",
    "PROJECT_ID = \"uki-mlops-dev-demo\"\n",
    "VPC_NETWORK = \"mlops-vpc\"  \n",
    "BUCKET_URI = \"gs://uki-mlops-dev-demo-bucket\"  \n",
    "REGION = \"us-central1\" \n",
    "NUM_NEIGHBOURS = 10"
   ]
  },
  {
   "cell_type": "code",
   "execution_count": 45,
   "metadata": {
    "id": "lZ3JQTS6CN-3"
   },
   "outputs": [],
   "source": [
    "import h5py\n",
    "\n",
    "h5 = h5py.File(\"glove-100-angular.hdf5\", \"r\")\n",
    "test = h5[\"test\"]"
   ]
  },
  {
   "cell_type": "code",
   "execution_count": 7,
   "metadata": {},
   "outputs": [
    {
     "data": {
      "text/plain": [
       "<HDF5 dataset \"test\": shape (10000, 100), type \"<f4\">"
      ]
     },
     "execution_count": 7,
     "metadata": {},
     "output_type": "execute_result"
    }
   ],
   "source": [
    "test"
   ]
  },
  {
   "cell_type": "code",
   "execution_count": 8,
   "metadata": {
    "id": "pE6bBBo7GjJK"
   },
   "outputs": [
    {
     "data": {
      "text/plain": [
       "array([ 0.39553  ,  0.23048  ,  0.82722  ,  0.10453  , -0.69281  ,\n",
       "       -0.83357  , -0.49049  , -0.036362 , -0.48396  , -0.44315  ,\n",
       "       -0.37407  , -0.13825  ,  0.3158   ,  0.16467  ,  0.1318   ,\n",
       "       -0.34739  ,  0.30084  ,  0.26194  ,  0.60956  , -0.21171  ,\n",
       "        0.26935  , -0.56669  ,  0.34927  ,  0.34816  , -0.014743 ,\n",
       "        0.97688  ,  0.17702  ,  0.16185  ,  0.044074 , -0.68819  ,\n",
       "        0.18073  ,  0.26355  ,  0.36275  , -0.73523  ,  0.39962  ,\n",
       "        0.0037411, -0.15352  ,  0.10079  , -0.23187  , -0.7068   ,\n",
       "        0.32768  , -0.012518 ,  0.038887 ,  0.67385  , -1.1839   ,\n",
       "        0.91321  , -0.0060804,  0.026679 ,  0.42256  , -0.10934  ,\n",
       "       -0.25663  , -0.22761  ,  0.34171  , -0.47256  , -0.075018 ,\n",
       "       -0.55013  ,  0.5073   ,  0.096439 , -0.14561  ,  0.21227  ,\n",
       "       -0.82953  ,  0.33062  ,  0.064787 ,  0.106    , -0.25982  ,\n",
       "        0.24861  ,  0.2334   ,  0.45757  , -0.38603  , -0.19482  ,\n",
       "       -0.83137  , -0.097219 , -0.23189  ,  0.21918  , -0.64164  ,\n",
       "        0.61185  ,  0.6306   , -0.15189  ,  0.24623  ,  0.21495  ,\n",
       "       -0.7573   ,  0.9218   ,  0.15128  ,  0.077108 , -0.091657 ,\n",
       "       -0.4422   , -0.023552 , -0.89412  , -0.40551  , -0.7191   ,\n",
       "        0.15076  , -0.010834 , -0.11687  ,  0.54617  , -0.36412  ,\n",
       "        0.50771  ,  0.68284  ,  0.79829  , -0.29665  , -0.14753  ],\n",
       "      dtype=float32)"
      ]
     },
     "execution_count": 8,
     "metadata": {},
     "output_type": "execute_result"
    }
   ],
   "source": [
    "test[0]"
   ]
  },
  {
   "cell_type": "markdown",
   "metadata": {
    "id": "qhIBCQ7dDSbW"
   },
   "source": [
    "#### Call ANN Index for Prediction"
   ]
  },
  {
   "cell_type": "code",
   "execution_count": 10,
   "metadata": {
    "id": "Y4zooldkGoM4"
   },
   "outputs": [],
   "source": [
    "from google.cloud import aiplatform\n",
    "\n",
    "aiplatform.init(project=PROJECT_ID, location=REGION, staging_bucket=BUCKET_URI)"
   ]
  },
  {
   "cell_type": "markdown",
   "metadata": {
    "id": "6LCGvBNvBd8D"
   },
   "source": [
    "#### Call Online Queries  "
   ]
  },
  {
   "cell_type": "markdown",
   "metadata": {
    "id": "IcXa9lSuB9AT"
   },
   "source": [
    "Test your query:"
   ]
  },
  {
   "cell_type": "code",
   "execution_count": 56,
   "metadata": {},
   "outputs": [],
   "source": [
    "INDEX_ENDPOINT = 'projects/106131389347/locations/us-central1/indexEndpoints/7753210641308975104'\n",
    "DEPLOYED_INDEX_ID = 'ann_glove_deployed_nntoqo8r'\n",
    "DEPLOYED_BRUTE_FORCE_INDEX_ID = 'brute_force_glove_deployed_nntoqo8r'"
   ]
  },
  {
   "cell_type": "code",
   "execution_count": 57,
   "metadata": {},
   "outputs": [],
   "source": [
    "my_index_endpoint = aiplatform.MatchingEngineIndexEndpoint(index_endpoint_name=INDEX_ENDPOINT)"
   ]
  },
  {
   "cell_type": "code",
   "execution_count": 28,
   "metadata": {
    "id": "A3KYVw5HB-4v",
    "tags": []
   },
   "outputs": [
    {
     "data": {
      "text/plain": [
       "[[MatchNeighbor(id='899605', distance=20.079139709472656),\n",
       "  MatchNeighbor(id='1093903', distance=17.839481353759766),\n",
       "  MatchNeighbor(id='296543', distance=16.99886703491211),\n",
       "  MatchNeighbor(id='21495', distance=16.8770694732666),\n",
       "  MatchNeighbor(id='689839', distance=16.852933883666992),\n",
       "  MatchNeighbor(id='702494', distance=16.84667205810547),\n",
       "  MatchNeighbor(id='518781', distance=16.65009307861328),\n",
       "  MatchNeighbor(id='505832', distance=16.334247589111328),\n",
       "  MatchNeighbor(id='405251', distance=16.278234481811523),\n",
       "  MatchNeighbor(id='1142011', distance=16.186227798461914)]]"
      ]
     },
     "execution_count": 28,
     "metadata": {},
     "output_type": "execute_result"
    }
   ],
   "source": [
    "# Test query\n",
    "response = my_index_endpoint.match(\n",
    "    deployed_index_id=DEPLOYED_INDEX_ID, queries=test[:1], num_neighbors=NUM_NEIGHBOURS\n",
    ")\n",
    "\n",
    "response"
   ]
  },
  {
   "cell_type": "code",
   "execution_count": 52,
   "metadata": {},
   "outputs": [
    {
     "name": "stdout",
     "output_type": "stream",
     "text": [
      "Mutating index MatchingEngineIndexEndpoint index_endpoint: projects/106131389347/locations/us-central1/indexEndpoints/7753210641308975104\n",
      "Mutate index MatchingEngineIndexEndpoint index_endpoint backing LRO: projects/106131389347/locations/us-central1/indexEndpoints/7753210641308975104/operations/5475358243200958464\n",
      "MatchingEngineIndexEndpoint index_endpoint Mutated. Resource name: projects/106131389347/locations/us-central1/indexEndpoints/7753210641308975104\n"
     ]
    },
    {
     "data": {
      "text/plain": [
       "<google.cloud.aiplatform.matching_engine.matching_engine_index_endpoint.MatchingEngineIndexEndpoint object at 0x7f22a6dbf550> \n",
       "resource name: projects/106131389347/locations/us-central1/indexEndpoints/7753210641308975104"
      ]
     },
     "execution_count": 52,
     "metadata": {},
     "output_type": "execute_result"
    }
   ],
   "source": [
    "my_index_endpoint.mutate_deployed_index(\n",
    "    deployed_index_id= DEPLOYED_INDEX_ID,\n",
    "    min_replica_count= 1,\n",
    "    max_replica_count= 1\n",
    ")"
   ]
  },
  {
   "cell_type": "code",
   "execution_count": 54,
   "metadata": {},
   "outputs": [
    {
     "name": "stdout",
     "output_type": "stream",
     "text": [
      "Mutating index MatchingEngineIndexEndpoint index_endpoint: projects/106131389347/locations/us-central1/indexEndpoints/7753210641308975104\n",
      "Mutate index MatchingEngineIndexEndpoint index_endpoint backing LRO: projects/106131389347/locations/us-central1/indexEndpoints/7753210641308975104/operations/4937178087730184192\n",
      "MatchingEngineIndexEndpoint index_endpoint Mutated. Resource name: projects/106131389347/locations/us-central1/indexEndpoints/7753210641308975104\n"
     ]
    },
    {
     "data": {
      "text/plain": [
       "<google.cloud.aiplatform.matching_engine.matching_engine_index_endpoint.MatchingEngineIndexEndpoint object at 0x7f22a6dbf550> \n",
       "resource name: projects/106131389347/locations/us-central1/indexEndpoints/7753210641308975104"
      ]
     },
     "execution_count": 54,
     "metadata": {},
     "output_type": "execute_result"
    }
   ],
   "source": [
    "my_index_endpoint.mutate_deployed_index(\n",
    "    deployed_index_id= DEPLOYED_BRUTE_FORCE_INDEX_ID,\n",
    "    min_replica_count= 1,\n",
    "    max_replica_count= 1\n",
    ")"
   ]
  },
  {
   "cell_type": "markdown",
   "metadata": {
    "id": "xeUZO3bAGoM-"
   },
   "source": [
    "### Compute Recall\n",
    "\n",
    "Use the deployed brute force Index as the ground truth to calculate the recall of ANN Index. Note that you can run multiple queries in a single match call. </br> \n",
    "#### The test on 10,000 datapoints takes approximately 3 seconds for ScaNN search, 36 seconds for Brute Force search. "
   ]
  },
  {
   "cell_type": "code",
   "execution_count": 53,
   "metadata": {
    "id": "U9dNIbkEGoM-"
   },
   "outputs": [],
   "source": [
    "# Retrieve nearest neighbors for both the tree-AH index and the brute-force index\n",
    "tree_ah_response_test = my_index_endpoint.match(\n",
    "    deployed_index_id=DEPLOYED_INDEX_ID,\n",
    "    queries=list(test),\n",
    "    num_neighbors=NUM_NEIGHBOURS,\n",
    ")"
   ]
  },
  {
   "cell_type": "code",
   "execution_count": 55,
   "metadata": {},
   "outputs": [],
   "source": [
    "brute_force_response_test = my_index_endpoint.match(\n",
    "    deployed_index_id=DEPLOYED_BRUTE_FORCE_INDEX_ID,\n",
    "    queries=list(test),\n",
    "    num_neighbors=NUM_NEIGHBOURS,\n",
    ")"
   ]
  },
  {
   "cell_type": "code",
   "execution_count": 44,
   "metadata": {
    "id": "V-eMF05UGoM-"
   },
   "outputs": [
    {
     "name": "stdout",
     "output_type": "stream",
     "text": [
      "Recall: 0.58067\n"
     ]
    }
   ],
   "source": [
    "# Calculate recall by determining how many neighbors were correctly retrieved as compared to the brute-force option.\n",
    "recalled_neighbors = 0\n",
    "for tree_ah_neighbors, brute_force_neighbors in zip(\n",
    "    tree_ah_response_test, brute_force_response_test\n",
    "):\n",
    "    tree_ah_neighbor_ids = [neighbor.id for neighbor in tree_ah_neighbors]\n",
    "    brute_force_neighbor_ids = [neighbor.id for neighbor in brute_force_neighbors]\n",
    "\n",
    "    recalled_neighbors += len(\n",
    "        set(tree_ah_neighbor_ids).intersection(brute_force_neighbor_ids)\n",
    "    )\n",
    "\n",
    "recall = recalled_neighbors / len(\n",
    "    [neighbor for neighbors in brute_force_response_test for neighbor in neighbors]\n",
    ")\n",
    "\n",
    "print(\"Recall: {}\".format(recall))"
   ]
  },
  {
   "cell_type": "markdown",
   "metadata": {
    "id": "TpV-iwP9qw9c"
   },
   "source": [
    "## Cleaning up\n",
    "\n",
    "To clean up all Google Cloud resources used in this project, you can [delete the Google Cloud\n",
    "project](https://cloud.google.com/resource-manager/docs/creating-managing-projects#shutting_down_projects) you used for the tutorial.\n",
    "You can also manually delete resources that you created by running the following code."
   ]
  },
  {
   "cell_type": "code",
   "execution_count": 42,
   "metadata": {},
   "outputs": [
    {
     "name": "stdout",
     "output_type": "stream",
     "text": [
      "Deleting MatchingEngineIndexEndpoint : projects/106131389347/locations/us-central1/indexEndpoints/32492767624036352\n",
      "Delete MatchingEngineIndexEndpoint  backing LRO: projects/106131389347/locations/us-central1/operations/2285683807115804672\n",
      "MatchingEngineIndexEndpoint deleted. . Resource name: projects/106131389347/locations/us-central1/indexEndpoints/32492767624036352\n"
     ]
    }
   ],
   "source": [
    "# Force undeployment of indexes and delete endpoint\n",
    "INDEX_ENDPOINT = 'projects/106131389347/locations/us-central1/indexEndpoints/32492767624036352'\n",
    "my_index_endpoint = aiplatform.MatchingEngineIndexEndpoint(index_endpoint_name=INDEX_ENDPOINT)\n",
    "#my_index_endpoint.delete(force=True)"
   ]
  },
  {
   "cell_type": "code",
   "execution_count": null,
   "metadata": {
    "id": "omj7N9iWv-Tq"
   },
   "outputs": [],
   "source": [
    "# Delete indexes\n",
    "tree_ah_index.delete()\n",
    "brute_force_index.delete()"
   ]
  },
  {
   "cell_type": "code",
   "execution_count": 58,
   "metadata": {},
   "outputs": [
    {
     "name": "stdout",
     "output_type": "stream",
     "text": [
      "Undeploying MatchingEngineIndexEndpoint index_endpoint: projects/106131389347/locations/us-central1/indexEndpoints/7753210641308975104\n",
      "Undeploy MatchingEngineIndexEndpoint index_endpoint backing LRO: projects/106131389347/locations/us-central1/indexEndpoints/7753210641308975104/operations/3266624100952440832\n",
      "MatchingEngineIndexEndpoint index_endpoint undeployed. Resource name: projects/106131389347/locations/us-central1/indexEndpoints/7753210641308975104\n",
      "Undeploying MatchingEngineIndexEndpoint index_endpoint: projects/106131389347/locations/us-central1/indexEndpoints/7753210641308975104\n",
      "Undeploy MatchingEngineIndexEndpoint index_endpoint backing LRO: projects/106131389347/locations/us-central1/indexEndpoints/7753210641308975104/operations/928692944393732096\n",
      "MatchingEngineIndexEndpoint index_endpoint undeployed. Resource name: projects/106131389347/locations/us-central1/indexEndpoints/7753210641308975104\n"
     ]
    },
    {
     "data": {
      "text/plain": [
       "<google.cloud.aiplatform.matching_engine.matching_engine_index_endpoint.MatchingEngineIndexEndpoint object at 0x7f22c426ef90> \n",
       "resource name: projects/106131389347/locations/us-central1/indexEndpoints/7753210641308975104"
      ]
     },
     "execution_count": 58,
     "metadata": {},
     "output_type": "execute_result"
    }
   ],
   "source": [
    "my_index_endpoint.undeploy_all(True)"
   ]
  },
  {
   "cell_type": "code",
   "execution_count": null,
   "metadata": {},
   "outputs": [],
   "source": []
  }
 ],
 "metadata": {
  "colab": {
   "collapsed_sections": [],
   "name": "sdk_matching_engine_for_indexing.ipynb",
   "toc_visible": true
  },
  "environment": {
   "kernel": "python3",
   "name": "common-cpu.m98",
   "type": "gcloud",
   "uri": "gcr.io/deeplearning-platform-release/base-cpu:m98"
  },
  "kernelspec": {
   "display_name": "Python 3",
   "language": "python",
   "name": "python3"
  },
  "language_info": {
   "codemirror_mode": {
    "name": "ipython",
    "version": 3
   },
   "file_extension": ".py",
   "mimetype": "text/x-python",
   "name": "python",
   "nbconvert_exporter": "python",
   "pygments_lexer": "ipython3",
   "version": "3.7.12"
  }
 },
 "nbformat": 4,
 "nbformat_minor": 4
}
